{
  "nbformat": 4,
  "nbformat_minor": 0,
  "metadata": {
    "colab": {
      "name": "Proj_Lotto.ipynb",
      "provenance": [],
      "collapsed_sections": []
    },
    "kernelspec": {
      "name": "python3",
      "display_name": "Python 3"
    },
    "language_info": {
      "name": "python"
    }
  },
  "cells": [
    {
      "cell_type": "code",
      "metadata": {
        "id": "DupU8DRalV1n"
      },
      "source": [
        "import numpy as np\n",
        "import pandas as pd\n",
        "import random as nr\n",
        "import matplotlib.pyplot as plt\n",
        "import io\n",
        "\n",
        "#리스트에서 딕셔너리 형태로 가져오기위한 라이브러리\n",
        "from collections import Counter\n",
        "\n",
        "#3D로 그래프를 표현하기 위한 라이브러리\n",
        "from matplotlib import cm\n",
        "from mpl_toolkits.mplot3d import Axes3D"
      ],
      "execution_count": 2,
      "outputs": []
    },
    {
      "cell_type": "code",
      "metadata": {
        "colab": {
          "resources": {
            "http://localhost:8080/nbextensions/google.colab/files.js": {
              "data": "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",
              "ok": true,
              "headers": [
                [
                  "content-type",
                  "application/javascript"
                ]
              ],
              "status": 200,
              "status_text": ""
            }
          },
          "base_uri": "https://localhost:8080/",
          "height": 73
        },
        "id": "8MxVn5Ynlflp",
        "outputId": "cdd0be59-34ad-4db9-d2f6-042bad21c385"
      },
      "source": [
        "from google.colab import files\n",
        "ul = files.upload()"
      ],
      "execution_count": 3,
      "outputs": [
        {
          "output_type": "display_data",
          "data": {
            "text/html": [
              "\n",
              "     <input type=\"file\" id=\"files-9a7fe63e-1f33-4881-bb93-2fb81c565fcb\" name=\"files[]\" multiple disabled\n",
              "        style=\"border:none\" />\n",
              "     <output id=\"result-9a7fe63e-1f33-4881-bb93-2fb81c565fcb\">\n",
              "      Upload widget is only available when the cell has been executed in the\n",
              "      current browser session. Please rerun this cell to enable.\n",
              "      </output>\n",
              "      <script src=\"/nbextensions/google.colab/files.js\"></script> "
            ],
            "text/plain": [
              "<IPython.core.display.HTML object>"
            ]
          },
          "metadata": {
            "tags": []
          }
        },
        {
          "output_type": "stream",
          "text": [
            "Saving DataSet.csv to DataSet.csv\n"
          ],
          "name": "stdout"
        }
      ]
    },
    {
      "cell_type": "code",
      "metadata": {
        "id": "q6OkltlTlkXE"
      },
      "source": [
        "dataSet = pd.read_csv(io.BytesIO(ul['DataSet.csv']))"
      ],
      "execution_count": 4,
      "outputs": []
    },
    {
      "cell_type": "code",
      "metadata": {
        "id": "YY8vaAMhmWAb"
      },
      "source": [
        "print(dataSet['1번'].value_counts())\n",
        "print(dataSet['2번'].value_counts())\n",
        "print(dataSet['3번'].value_counts())\n",
        "print(dataSet['4번'].value_counts())\n",
        "print(dataSet['5번'].value_counts())\n",
        "print(dataSet['6번'].value_counts())\n",
        "print(dataSet['보너스번호'].value_counts())"
      ],
      "execution_count": null,
      "outputs": []
    },
    {
      "cell_type": "code",
      "metadata": {
        "id": "A43uQ1cVzrVc"
      },
      "source": [
        "#1번~6번, 보너스번호의 총 숫자개수 판독\n",
        "countList = list(dataSet['1번'])+ list(dataSet['2번'])+ list(dataSet['3번'])+ list(dataSet['4번'])+ list(dataSet['5번'])+ list(dataSet['6번'])+ list(dataSet['보너스번호'])\n",
        "cnt = Counter(countList)\n",
        "countNumber = list(zip(cnt.keys(),cnt.values()))\n",
        "countNumber = sorted(countNumber,key=lambda x : x[0])\n",
        "countNumber"
      ],
      "execution_count": null,
      "outputs": []
    },
    {
      "cell_type": "code",
      "metadata": {
        "id": "3Le7CABD5tvU"
      },
      "source": [
        "#개수를 y축에 넣기위해 리스트에 넣기\n",
        "valueList = []\n",
        "for i in range(0,45):\n",
        "  valueList.append(countNumber[i][1])"
      ],
      "execution_count": 7,
      "outputs": []
    },
    {
      "cell_type": "code",
      "metadata": {
        "id": "KNMzQQgH6Ct5"
      },
      "source": [
        "plt.figure(figsize=(5,5))\n",
        "# 각 숫자별로 개수 그래프에 넣어보기 \n",
        "for i in range(len(valueList)):\n",
        "  plt.scatter(i+1,valueList[i])\n",
        "#큰 연관 관계는 없어 보이나 \n",
        "#전반적으로 숫자가 클수록 출현 횟수의 저점과 고점이 더 높아진 것을 볼 수 있었다.\n",
        "#숫자 12는 이와 무관하게 가장 많이 출현하였음."
      ],
      "execution_count": null,
      "outputs": []
    },
    {
      "cell_type": "code",
      "metadata": {
        "id": "9q25JohRUb8w"
      },
      "source": [
        "sortedCntN = pd.DataFrame(countNumber)\n",
        "sortedCntN.index +=1\n",
        "sortedCntN.columns = ['출현 숫자','개수']\n",
        "sortedCntN"
      ],
      "execution_count": null,
      "outputs": []
    },
    {
      "cell_type": "markdown",
      "metadata": {
        "id": "VYVVlN1-Vysb"
      },
      "source": [
        "검정 픽셀의 개수는 다음과 같았다.(From ImageJ)\n",
        "\n",
        "0: 4978\n",
        "\n",
        "1: 3448\n",
        "\n",
        "2: 3967\n",
        "\n",
        "3: 4121\n",
        "\n",
        "4: 4310\n",
        "\n",
        "5: 4070\n",
        "\n",
        "6: 4782\n",
        "\n",
        "7: 3199\n",
        "\n",
        "8: 5371\n",
        "\n",
        "9: 4815\n",
        "\n",
        "10000으로 나누어 리스트에 넣어보자."
      ]
    },
    {
      "cell_type": "code",
      "metadata": {
        "id": "yOkL4ytnVhnD"
      },
      "source": [
        "# rgb값이 '0'인 순수한 검정의 픽셀의 개수를 토대로 무게값 리스트 만들기\n",
        "# 0부터 9까지 무게값 넣기\n",
        "numbers = [0.4978,0.3448,0.3967,0.4121,0.4310,0.4070,0.4782,0.3199,0.5371,0.4815]\n",
        "numberWeight = []\n",
        "\n",
        "#2중 반복문으로 각 숫자별로 무게값 넣기\n",
        "for i in range(0,5):\n",
        "  for j in range(0,10):\n",
        "    if i == 0:\n",
        "      numberWeight.append(numbers[j])\n",
        "    else :\n",
        "      numberWeight.append(numbers[i]+numbers[j])\n",
        "\n",
        "#0은 없으므로 가장 앞의 '0'의 무게값 삭제\n",
        "numberWeight.remove(0.4978)\n",
        "\n",
        "#45까지만 필요하므로 뒤에 4개는 삭제\n",
        "for k in range(4):\n",
        "  del numberWeight[45]\n",
        "\n",
        "numberWeight"
      ],
      "execution_count": null,
      "outputs": []
    },
    {
      "cell_type": "code",
      "metadata": {
        "id": "taF0lrkSZVWj"
      },
      "source": [
        "#무게별를 데이터 프레임에 추가해보자.\n",
        "sortedCntN.insert(2,'무게',numberWeight)"
      ],
      "execution_count": 11,
      "outputs": []
    },
    {
      "cell_type": "code",
      "metadata": {
        "id": "HLOp_SvQcJ_b"
      },
      "source": [
        "sortedCntN"
      ],
      "execution_count": null,
      "outputs": []
    },
    {
      "cell_type": "code",
      "metadata": {
        "id": "2dTZraPVb3TR"
      },
      "source": [
        "#무게가 아닌 출현 횟수로 정렬해보자.(내림차순)\n",
        "sortedCntN = sortedCntN.sort_values(by = ['개수'],axis=0,ascending=False)\n",
        "sortedCntN = sortedCntN.reset_index()\n",
        "del sortedCntN['index']\n",
        "sortedCntN.index+=1"
      ],
      "execution_count": null,
      "outputs": []
    },
    {
      "cell_type": "code",
      "metadata": {
        "id": "8mxdtmindX6A"
      },
      "source": [
        "sortedCntN"
      ],
      "execution_count": null,
      "outputs": []
    },
    {
      "cell_type": "code",
      "metadata": {
        "colab": {
          "base_uri": "https://localhost:8080/",
          "height": 265
        },
        "id": "L0sgZuNogHZB",
        "outputId": "bc6d7589-64a0-4a38-e7ee-6a1479055325"
      },
      "source": [
        "for i in range(1,len(sortedCntN['출현 숫자'])+1):\n",
        "  plt.scatter(sortedCntN['출현 숫자'][i],sortedCntN['개수'][i],c = 'r')"
      ],
      "execution_count": 13,
      "outputs": [
        {
          "output_type": "display_data",
          "data": {
            "image/png": "[encoded data removed]",
            "text/plain": [
              "<Figure size 432x288 with 1 Axes>"
            ]
          },
          "metadata": {
            "tags": [],
            "needs_background": "light"
          }
        }
      ]
    },
    {
      "cell_type": "code",
      "metadata": {
        "colab": {
          "base_uri": "https://localhost:8080/",
          "height": 265
        },
        "id": "r73q0gcLhY3i",
        "outputId": "501172f6-7a49-452e-f3b0-7daff8a6f661"
      },
      "source": [
        "for i in range(1,len(sortedCntN['출현 숫자'])+1):\n",
        "  plt.scatter(sortedCntN['출현 숫자'][i],sortedCntN['무게'][i],c = 'b')"
      ],
      "execution_count": 14,
      "outputs": [
        {
          "output_type": "display_data",
          "data": {
            "image/png": "[encoded data removed]",
            "text/plain": [
              "<Figure size 432x288 with 1 Axes>"
            ]
          },
          "metadata": {
            "tags": [],
            "needs_background": "light"
          }
        }
      ]
    },
    {
      "cell_type": "code",
      "metadata": {
        "colab": {
          "base_uri": "https://localhost:8080/",
          "height": 265
        },
        "id": "gGXWcLiOiXHe",
        "outputId": "4e1eb7af-b883-404f-f21d-ceb539fcf7f4"
      },
      "source": [
        "#전반적인 관계는 없어보인다.\n",
        "for i in range(1,len(sortedCntN['출현 숫자'])+1):\n",
        "  plt.scatter(sortedCntN['개수'][i],sortedCntN['무게'][i],c = 'r')"
      ],
      "execution_count": 15,
      "outputs": [
        {
          "output_type": "display_data",
          "data": {
            "image/png": "[encoded data removed]",
            "text/plain": [
              "<Figure size 432x288 with 1 Axes>"
            ]
          },
          "metadata": {
            "tags": [],
            "needs_background": "light"
          }
        }
      ]
    },
    {
      "cell_type": "code",
      "metadata": {
        "id": "kOxcu9lM5QAm"
      },
      "source": [
        "#혹시 모르니 3차원으로 그려보았다.\n",
        "size = []\n",
        "for i in range(1,46):\n",
        "  size.append(i*sortedCntN['개수'][i]*2)\n",
        "\n",
        "plt.rcParams['figure.figsize'] = (50,50)\n",
        "fig = plt.figure()\n",
        "ax = fig.add_subplot(111,projection = '3d')\n",
        "ax.scatter(sortedCntN['출현 숫자'],sortedCntN['개수'],sortedCntN['무게'],c = 'g',marker = 'o',s = size,cmap = 'Greens')\n",
        "plt.tick_params(axis='x', direction='in', length=3, pad=-40, labelsize=50, labelcolor='black', top=True)\n",
        "plt.tick_params(axis='y', direction='inout', length=10, pad=-40, labelsize=50, width=2, color='black')\n",
        "plt.tick_params(axis='z', direction='in', length=1, pad=-40, labelsize=40, width=2, color='black')\n",
        "ax.set_xlabel('Number',fontsize = 30)\n",
        "ax.set_ylabel('Number of times',fontsize = 30)\n",
        "ax.set_zlabel('Weight',fontsize = 30)\n",
        "plt.title('Correlation of Lotto Number and Weight',fontsize = 50)\n",
        "ax.xaxis.label.set_size(40)\n",
        "ax.yaxis.label.set_size(40)\n",
        "ax.zaxis.label.set_size(40)\n",
        "ax.view_init(elev = 10,azim= 25)\n",
        "plt.show()\n",
        "#오히려 보기 더 어려워졌다. surface를 활용하고자 하였으나 \n",
        "#z값이 x와 y의 평면으로 즉, 계산이 되어진\n",
        "#방정식 형태여야 가능한 것으로 보였다."
      ],
      "execution_count": null,
      "outputs": []
    },
    {
      "cell_type": "code",
      "metadata": {
        "id": "74oHMF43utmQ"
      },
      "source": [
        "sortedCntN"
      ],
      "execution_count": null,
      "outputs": []
    },
    {
      "cell_type": "code",
      "metadata": {
        "id": "0ejhhRkSqWOq"
      },
      "source": [
        "# 일단, 무게비와 개수비를 계산하여 넣어보자.\n",
        "\n",
        "cnt = sum(sortedCntN['개수'])\n",
        "weight = sum(sortedCntN['무게'])\n",
        "\n",
        "cntPer = (sortedCntN['개수']/1645)*100\n",
        "weightPer = (sortedCntN['무게']/sum(sortedCntN['무게']))*100"
      ],
      "execution_count": 17,
      "outputs": []
    },
    {
      "cell_type": "code",
      "metadata": {
        "id": "qPiViGgyvuxE"
      },
      "source": [
        "#데이터 프레임에 추가\n",
        "sortedCntN.insert(3,'개수비',cntPer)\n",
        "sortedCntN.insert(4,'무게비',weightPer)\n",
        "sortedCntN"
      ],
      "execution_count": null,
      "outputs": []
    },
    {
      "cell_type": "code",
      "metadata": {
        "id": "8kzsZ7F-v5jW"
      },
      "source": [
        "#정확한 그래프를 위해 숫자순으로 다시 정렬해보자.\n",
        "sortedCntN = sortedCntN.sort_values(by = ['출현 숫자'],axis=0)\n",
        "sortedCntN = sortedCntN.reset_index()\n",
        "del sortedCntN['index']\n",
        "sortedCntN.index+=1\n",
        "sortedCntN"
      ],
      "execution_count": null,
      "outputs": []
    },
    {
      "cell_type": "code",
      "metadata": {
        "id": "b99QxomBySfi"
      },
      "source": [
        "plt.figure(figsize=(5,5))\n",
        "plt.hist([sortedCntN['개수비'],sortedCntN['무게비']])\n",
        "#최고치에 해당하는 퍼센티지의 분포가 다르지만 데이터셋이 현저하게 적어서 일 수도 있다.\n",
        "#무게비가 높을 수록 개수비도 높은 경향(?)은 있는 것 같아 보인다."
      ],
      "execution_count": null,
      "outputs": []
    },
    {
      "cell_type": "code",
      "metadata": {
        "id": "SZXultXK0BIY"
      },
      "source": [
        "#무게값을 기준으로 가중치를 주고 역대 로또 번호를 맞출 수 있는 확률이 있나 확인해 보자.\n",
        "#가중치로 줄 값은 개수*무게비로 해보자.\n",
        "newWeight = sortedCntN['개수']*sortedCntN['무게비']*100/sum(sortedCntN['개수']*sortedCntN['무게비'])\n",
        "sortedCntN.insert(5,'가중치',newWeight)"
      ],
      "execution_count": 22,
      "outputs": []
    },
    {
      "cell_type": "code",
      "metadata": {
        "id": "WXxK-YT44Kep"
      },
      "source": [
        "#가중치를 부여해 랜덤하게 1번부터 6번까지\n",
        "numbers_weighted = nr.choices([i for i in range(1,46)],weights = newWeight,k = 6)"
      ],
      "execution_count": 23,
      "outputs": []
    },
    {
      "cell_type": "code",
      "metadata": {
        "id": "kZwaFx2t46-T"
      },
      "source": [
        "#역대 당첨 번호들을 리스트로 만들어보자. \n",
        "dataSet"
      ],
      "execution_count": null,
      "outputs": []
    },
    {
      "cell_type": "code",
      "metadata": {
        "id": "aEi3NyA653b3"
      },
      "source": [
        "newDataSet = []\n",
        "for i in range(len(dataSet.index)):\n",
        "  newDataSet.append(dataSet.loc[i].tolist())"
      ],
      "execution_count": 25,
      "outputs": []
    },
    {
      "cell_type": "code",
      "metadata": {
        "id": "DdB0thd5A9Vp"
      },
      "source": [
        "newDataSet = sorted(newDataSet,key=lambda x : x[0])"
      ],
      "execution_count": 26,
      "outputs": []
    },
    {
      "cell_type": "markdown",
      "metadata": {
        "id": "mPiZeONcGqFp"
      },
      "source": [
        "1등부터 3등사이의 당첨 횟수를 카운트하고\n",
        "가중치 없는 랜덤한 추첨기와 비교해보자.\n"
      ]
    },
    {
      "cell_type": "code",
      "metadata": {
        "colab": {
          "base_uri": "https://localhost:8080/"
        },
        "id": "tdEsaIlF7Rgp",
        "outputId": "910a1e55-87f8-4724-8c11-306ab5f75445"
      },
      "source": [
        "#가중치를 이용한 로또번호 추첨기\n",
        "weight_HIT,chance,year = 0,100,20\n",
        "memory = 0\n",
        "winList1 = []\n",
        "\n",
        "#회차를 알기 위해서 리스트끼리 == 비교를 하지말고 원소비교를 해보자.\n",
        "for __ in range(100):\n",
        "  for _ in range(year):\n",
        "    weight_1st,weight_2nd,weight_3rd = 0,0,0\n",
        "    for i in range(chance):\n",
        "      numbers_weighted = lotto_lottery()\n",
        "      remember = numbers_weighted[6]\n",
        "      numbers_weighted.remove(remember)\n",
        "      numbers_weighted = sorted(numbers_weighted,key=lambda x : x)\n",
        "      for j in range(len(newDataSet)):\n",
        "        cnt ,include = 0,0\n",
        "        for k in range(1,7):\n",
        "          if newDataSet[j][k] == numbers_weighted[k-1]:\n",
        "            cnt+=1\n",
        "        for q in range(1,7):\n",
        "          if numbers_weighted[q-1] in newDataSet[j]:\n",
        "            include +=1\n",
        "        #3등부터 넣어보자.\n",
        "        if include > 4 : \n",
        "          #1등인 경우 :\n",
        "          if cnt == 6: weight_1st+=1\n",
        "          elif include == 5 and remember == newDataSet[j][7]: weight_2nd +=1\n",
        "          elif include == 5 : weight_3rd +=1\n",
        "        if weight_1st > 0 :\n",
        "          print(\"진짜 1등이라구!\",j+733)\n",
        "    winList1.append(weight_1st+weight_2nd+weight_3rd)\n",
        "winList1\n",
        "print(np.mean(winList1))"
      ],
      "execution_count": 73,
      "outputs": [
        {
          "output_type": "stream",
          "text": [
            "2.772\n"
          ],
          "name": "stdout"
        }
      ]
    },
    {
      "cell_type": "code",
      "metadata": {
        "id": "m5RKjgY2iuZA"
      },
      "source": [
        "def lotto_lottery():\n",
        "  numberList = [i for i in range(1,46)]\n",
        "  outNumber = []\n",
        "  copyWeight = newWeight\n",
        "  copyWeight = copyWeight.tolist()\n",
        "  while len(numberList) > 38:\n",
        "    inputNumber = nr.choices(numberList,weights = copyWeight,k = 1)\n",
        "    idx = numberList.index(inputNumber[0])\n",
        "    numberList.remove(inputNumber[0])\n",
        "    copyWeight.remove(copyWeight[idx])\n",
        "    outNumber.append(inputNumber[0])\n",
        "  return outNumber"
      ],
      "execution_count": null,
      "outputs": []
    },
    {
      "cell_type": "code",
      "metadata": {
        "colab": {
          "base_uri": "https://localhost:8080/"
        },
        "id": "1hxtF1BlMupD",
        "outputId": "ff290f74-83da-4e68-ceb9-4382ad8b9d5b"
      },
      "source": [
        "#가중치를 이용하지 않은 로또번호 추첨기\n",
        "HIT,chance,year= 0,100,20\n",
        "memory = 0\n",
        "winList2 = []\n",
        "#회차를 알기 위해서 리스트끼리 == 비교를 하지말고 원소비교를 해보자.\n",
        "for __ in range(100):\n",
        "  for _ in range(year):\n",
        "    noWeight_1st,noWeight_2nd,noWeight_3rd = 0,0,0\n",
        "    for i in range(chance):\n",
        "      numbers = nr.sample(range(1,46),7)\n",
        "      remember = numbers[6]\n",
        "      numbers.remove(remember)\n",
        "      numbers = sorted(numbers,key=lambda x : x)\n",
        "      for j in range(len(newDataSet)):\n",
        "        cnt ,include = 0,0\n",
        "        for k in range(1,7):\n",
        "          if newDataSet[j][k] == numbers[k-1]:\n",
        "            cnt+=1\n",
        "        for q in range(1,7):\n",
        "          if numbers[q-1] in newDataSet[j]:\n",
        "            include +=1\n",
        "        #3등부터 넣어보자.\n",
        "        if include > 4 : \n",
        "          #1등인 경우 :\n",
        "          if cnt == 6: noWeight_1st+=1\n",
        "          elif include == 5 and remember == newDataSet[j][7]: noWeight_2nd +=1\n",
        "          elif include == 5 : noWeight_3rd +=1\n",
        "        if noWeight_1st > 0 :\n",
        "          print(\"진짜 1등이라구!\",j+733)\n",
        "    winList2.append(noWeight_1st+noWeight_2nd+noWeight_3rd)\n",
        "winList2\n",
        "print(np.mean(winList2))"
      ],
      "execution_count": 72,
      "outputs": [
        {
          "output_type": "stream",
          "text": [
            "2.3135\n"
          ],
          "name": "stdout"
        }
      ]
    },
    {
      "cell_type": "code",
      "metadata": {
        "colab": {
          "base_uri": "https://localhost:8080/",
          "height": 337
        },
        "id": "ei-D2mAtZom1",
        "outputId": "a3410c01-3792-4616-f01c-f13fd24a6f9e"
      },
      "source": [
        "plt.figure(figsize=(5,5))\n",
        "plt.plot([i for i in range(1,21)],winList1)\n",
        "plt.plot([i for i in range(1,21)],[np.mean(winList1)]*20)\n",
        "print(\"1년에 평균 3등 이내로 당첨 된 로또 개수 = \",np.mean(winList1))"
      ],
      "execution_count": 31,
      "outputs": [
        {
          "output_type": "stream",
          "text": [
            "1년에 평균 3등 이내로 당첨 된 로또 개수 =  15.4\n"
          ],
          "name": "stdout"
        },
        {
          "output_type": "display_data",
          "data": {
            "image/png": "[encoded data removed]",
            "text/plain": [
              "<Figure size 360x360 with 1 Axes>"
            ]
          },
          "metadata": {
            "tags": [],
            "needs_background": "light"
          }
        }
      ]
    },
    {
      "cell_type": "code",
      "metadata": {
        "colab": {
          "base_uri": "https://localhost:8080/",
          "height": 337
        },
        "id": "Yt8AtBVRZ7J1",
        "outputId": "7ba4c2d0-b43d-4aca-fc54-edb933b96583"
      },
      "source": [
        "plt.figure(figsize=(5,5))\n",
        "plt.plot([i for i in range(1,21)],winList2)\n",
        "plt.plot([i for i in range(1,21)],[np.mean(winList2)]*20)\n",
        "print(\"1년에 평균 3등 이내로 당첨 된 로또 개수 = \",np.mean(winList2))"
      ],
      "execution_count": 32,
      "outputs": [
        {
          "output_type": "stream",
          "text": [
            "1년에 평균 3등 이내로 당첨 된 로또 개수 =  2.2\n"
          ],
          "name": "stdout"
        },
        {
          "output_type": "display_data",
          "data": {
            "image/png": "[encoded data removed]",
            "text/plain": [
              "<Figure size 360x360 with 1 Axes>"
            ]
          },
          "metadata": {
            "tags": [],
            "needs_background": "light"
          }
        }
      ]
    }
  ]
}